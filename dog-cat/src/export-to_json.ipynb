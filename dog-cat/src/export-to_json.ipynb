{
 "cells": [
  {
   "cell_type": "code",
   "execution_count": 2,
   "metadata": {},
   "outputs": [],
   "source": [
    "from __future__ import print_function\n",
    "import keras\n",
    "from keras.datasets import cifar10\n",
    "from keras.models import load_model\n",
    "from keras.models import Sequential\n",
    "from keras.layers import Dense, Dropout, Flatten\n",
    "from keras.layers import Conv2D, MaxPooling2D\n",
    "from skimage import io\n",
    "\n",
    "\n",
    "\n",
    "\n",
    "from PIL import Image\n",
    "\n",
    "import numpy as np\n",
    "import codecs, json \n",
    "# import scipy\n",
    "import matplotlib.pyplot as plt\n",
    "import matplotlib.image as mpimg\n",
    "import scipy.misc\n",
    "import json\n",
    "\n"
   ]
  },
  {
   "cell_type": "code",
   "execution_count": 12,
   "metadata": {},
   "outputs": [
    {
     "name": "stdout",
     "output_type": "stream",
     "text": [
      "<PIL.Image.Image image mode=RGB size=64x64 at 0x7FD38ABA8978>\n"
     ]
    }
   ],
   "source": [
    "X = []\n",
    "\n",
    "\n",
    "img = Image.open('../input/test/dog/3.jpg')\n",
    "img = img.convert(\"RGB\")\n",
    "img = img.resize((64, 64))\n",
    "\n",
    "print(img)\n",
    "in_data = np.asarray(img)\n",
    "\n",
    "X.append(in_data)\n",
    "\n",
    "\n",
    "\n",
    "X = np.array(X)\n",
    "\n"
   ]
  },
  {
   "cell_type": "code",
   "execution_count": 14,
   "metadata": {},
   "outputs": [],
   "source": [
    "\n",
    "b = X.tolist() # nested lists with same data, indices\n",
    "file_path = \"./mnist.json\" ## your path variable\n",
    "json.dump(b[0], codecs.open(file_path, 'w', encoding='utf-8'), separators=(',', ':'), sort_keys=True, indent=0) ### this saves the array in .json format\n"
   ]
  },
  {
   "cell_type": "code",
   "execution_count": null,
   "metadata": {
    "collapsed": true
   },
   "outputs": [],
   "source": []
  }
 ],
 "metadata": {
  "kernelspec": {
   "display_name": "Python 3",
   "language": "python",
   "name": "python3"
  },
  "language_info": {
   "codemirror_mode": {
    "name": "ipython",
    "version": 3
   },
   "file_extension": ".py",
   "mimetype": "text/x-python",
   "name": "python",
   "nbconvert_exporter": "python",
   "pygments_lexer": "ipython3",
   "version": "3.5.2"
  }
 },
 "nbformat": 4,
 "nbformat_minor": 2
}
