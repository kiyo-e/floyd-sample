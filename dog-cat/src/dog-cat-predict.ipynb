{
 "cells": [
  {
   "cell_type": "code",
   "execution_count": 1,
   "metadata": {},
   "outputs": [
    {
     "name": "stderr",
     "output_type": "stream",
     "text": [
      "Using TensorFlow backend.\n"
     ]
    }
   ],
   "source": [
    "import keras\n",
    "from keras.models import load_model\n",
    "from PIL import Image\n",
    "\n",
    "import numpy as np\n",
    "# import scipy\n",
    "import matplotlib.pyplot as plt\n",
    "import matplotlib.image as mpimg\n",
    "\n",
    "from keras.preprocessing.image import ImageDataGenerator\n"
   ]
  },
  {
   "cell_type": "code",
   "execution_count": 2,
   "metadata": {
    "collapsed": true
   },
   "outputs": [],
   "source": [
    "model = load_model(\"../output/cnn-dog-cat.h5\")"
   ]
  },
  {
   "cell_type": "code",
   "execution_count": 3,
   "metadata": {},
   "outputs": [
    {
     "name": "stdout",
     "output_type": "stream",
     "text": [
      "1/1 [==============================] - 0s\n",
      "[0]\n"
     ]
    }
   ],
   "source": [
    "X = []\n",
    "\n",
    "\n",
    "img = Image.open('../input/test/cat/5.jpg')\n",
    "img = img.convert(\"RGB\")\n",
    "img = img.resize((64, 64))\n",
    "\n",
    "in_data = np.asarray(img)\n",
    "X.append(in_data)\n",
    "\n",
    "\n",
    "\n",
    "X = np.array(X)\n",
    "\n",
    "\n",
    "cl = model.predict_classes(X)\n",
    "print(cl)"
   ]
  },
  {
   "cell_type": "code",
   "execution_count": 4,
   "metadata": {},
   "outputs": [
    {
     "name": "stdout",
     "output_type": "stream",
     "text": [
      "1/1 [==============================] - 0s\n",
      "[0]\n"
     ]
    }
   ],
   "source": [
    "X = []\n",
    "\n",
    "\n",
    "img = Image.open('../input/test/cat/6.jpg')\n",
    "img = img.convert(\"RGB\")\n",
    "img = img.resize((64, 64))\n",
    "\n",
    "\n",
    "in_data = np.asarray(img)\n",
    "\n",
    "X.append(in_data)\n",
    "\n",
    "\n",
    "\n",
    "X = np.array(X)\n",
    "\n",
    "\n",
    "cl = model.predict_classes(X)\n",
    "print(cl)"
   ]
  },
  {
   "cell_type": "code",
   "execution_count": 5,
   "metadata": {},
   "outputs": [
    {
     "name": "stdout",
     "output_type": "stream",
     "text": [
      "1/1 [==============================] - 0s\n",
      "[0]\n"
     ]
    }
   ],
   "source": [
    "X = []\n",
    "\n",
    "\n",
    "img = Image.open('../input/test/cat/7.jpg')\n",
    "img = img.convert(\"RGB\")\n",
    "img = img.resize((64, 64))\n",
    "\n",
    "\n",
    "in_data = np.asarray(img)\n",
    "\n",
    "X.append(in_data)\n",
    "\n",
    "\n",
    "\n",
    "X = np.array(X)\n",
    "\n",
    "\n",
    "cl = model.predict_classes(X)\n",
    "print(cl)"
   ]
  },
  {
   "cell_type": "code",
   "execution_count": 6,
   "metadata": {},
   "outputs": [
    {
     "name": "stdout",
     "output_type": "stream",
     "text": [
      "1/1 [==============================] - 0s\n",
      "[0]\n"
     ]
    }
   ],
   "source": [
    "X = []\n",
    "\n",
    "\n",
    "img = Image.open('../input/test/cat/8.jpg')\n",
    "img = img.convert(\"RGB\")\n",
    "img = img.resize((64, 64))\n",
    "\n",
    "in_data = np.asarray(img)\n",
    "\n",
    "X.append(in_data)\n",
    "\n",
    "\n",
    "\n",
    "X = np.array(X)\n",
    "\n",
    "\n",
    "cl = model.predict_classes(X)\n",
    "print(cl)"
   ]
  },
  {
   "cell_type": "code",
   "execution_count": 7,
   "metadata": {},
   "outputs": [
    {
     "name": "stdout",
     "output_type": "stream",
     "text": [
      "1/1 [==============================] - 0s\n",
      "[1]\n"
     ]
    }
   ],
   "source": [
    "X = []\n",
    "\n",
    "\n",
    "img = Image.open('../input/test/dog/1.jpg')\n",
    "img = img.convert(\"RGB\")\n",
    "img = img.resize((64, 64))\n",
    "\n",
    "in_data = np.asarray(img)\n",
    "\n",
    "X.append(in_data)\n",
    "\n",
    "\n",
    "\n",
    "X = np.array(X)\n",
    "\n",
    "\n",
    "cl = model.predict_classes(X)\n",
    "print(cl)"
   ]
  },
  {
   "cell_type": "code",
   "execution_count": 8,
   "metadata": {},
   "outputs": [
    {
     "name": "stdout",
     "output_type": "stream",
     "text": [
      "1/1 [==============================] - 0s\n",
      "[1]\n"
     ]
    }
   ],
   "source": [
    "X = []\n",
    "\n",
    "\n",
    "img = Image.open('../input/test/dog/2.jpg')\n",
    "img = img.convert(\"RGB\")\n",
    "img = img.resize((64, 64))\n",
    "\n",
    "in_data = np.asarray(img)\n",
    "\n",
    "X.append(in_data)\n",
    "\n",
    "\n",
    "\n",
    "X = np.array(X)\n",
    "\n",
    "\n",
    "cl = model.predict_classes(X)\n",
    "print(cl)"
   ]
  },
  {
   "cell_type": "code",
   "execution_count": 9,
   "metadata": {},
   "outputs": [
    {
     "name": "stdout",
     "output_type": "stream",
     "text": [
      "1/1 [==============================] - 0s\n",
      "[1]\n"
     ]
    }
   ],
   "source": [
    "X = []\n",
    "\n",
    "\n",
    "img = Image.open('../input/test/dog/3.jpg')\n",
    "img = img.convert(\"RGB\")\n",
    "img = img.resize((64, 64))\n",
    "\n",
    "in_data = np.asarray(img)\n",
    "\n",
    "X.append(in_data)\n",
    "\n",
    "\n",
    "\n",
    "X = np.array(X)\n",
    "\n",
    "\n",
    "cl = model.predict_classes(X)\n",
    "print(cl)"
   ]
  },
  {
   "cell_type": "code",
   "execution_count": 10,
   "metadata": {},
   "outputs": [
    {
     "name": "stdout",
     "output_type": "stream",
     "text": [
      "1/1 [==============================] - 0s\n",
      "[1]\n"
     ]
    }
   ],
   "source": [
    "X = []\n",
    "\n",
    "\n",
    "img = Image.open('../input/test/dog/4.jpg')\n",
    "img = img.convert(\"RGB\")\n",
    "img = img.resize((64, 64))\n",
    "\n",
    "in_data = np.asarray(img)\n",
    "\n",
    "X.append(in_data)\n",
    "\n",
    "\n",
    "\n",
    "X = np.array(X)\n",
    "\n",
    "\n",
    "cl = model.predict_classes(X)\n",
    "print(cl)"
   ]
  },
  {
   "cell_type": "code",
   "execution_count": 11,
   "metadata": {},
   "outputs": [
    {
     "name": "stdout",
     "output_type": "stream",
     "text": [
      "1/1 [==============================] - 0s\n",
      "[1]\n"
     ]
    }
   ],
   "source": [
    "X = []\n",
    "\n",
    "\n",
    "img = Image.open('../input/test/dog/12.jpg')\n",
    "img = img.convert(\"RGB\")\n",
    "img = img.resize((64, 64))\n",
    "\n",
    "in_data = np.asarray(img)\n",
    "\n",
    "X.append(in_data)\n",
    "\n",
    "\n",
    "\n",
    "X = np.array(X)\n",
    "\n",
    "\n",
    "cl = model.predict_classes(X)\n",
    "print(cl)"
   ]
  },
  {
   "cell_type": "code",
   "execution_count": 12,
   "metadata": {},
   "outputs": [
    {
     "name": "stdout",
     "output_type": "stream",
     "text": [
      "Found 5000 images belonging to 2 classes.\n",
      "{'dog': 1, 'cat': 0}\n"
     ]
    }
   ],
   "source": [
    "test_datagen = ImageDataGenerator(rescale=1.0/255)\n",
    "validation_generator = test_datagen.flow_from_directory(\n",
    "    directory=\"../input/valid\",\n",
    "        target_size=(64, 64),\n",
    "        batch_size=32,\n",
    "        color_mode = 'rgb',\n",
    "        class_mode='categorical')\n",
    "print(validation_generator.class_indices)"
   ]
  },
  {
   "cell_type": "code",
   "execution_count": 18,
   "metadata": {},
   "outputs": [
    {
     "name": "stdout",
     "output_type": "stream",
     "text": [
      "Found 20 images belonging to 2 classes.\n"
     ]
    },
    {
     "ename": "TypeError",
     "evalue": "evaluate_generator() got an unexpected keyword argument 'class_mode'",
     "output_type": "error",
     "traceback": [
      "\u001b[0;31m\u001b[0m",
      "\u001b[0;31mTypeError\u001b[0mTraceback (most recent call last)",
      "\u001b[0;32m<ipython-input-18-a371f696555d>\u001b[0m in \u001b[0;36m<module>\u001b[0;34m()\u001b[0m\n\u001b[1;32m      6\u001b[0m         class_mode='categorical')\n\u001b[1;32m      7\u001b[0m \u001b[0;34m\u001b[0m\u001b[0m\n\u001b[0;32m----> 8\u001b[0;31m \u001b[0mresult\u001b[0m \u001b[0;34m=\u001b[0m \u001b[0mmodel\u001b[0m\u001b[0;34m.\u001b[0m\u001b[0mevaluate_generator\u001b[0m\u001b[0;34m(\u001b[0m\u001b[0mtest_generator\u001b[0m\u001b[0;34m,\u001b[0m \u001b[0msteps\u001b[0m\u001b[0;34m=\u001b[0m\u001b[0;36m5\u001b[0m\u001b[0;34m,\u001b[0m \u001b[0mclass_mode\u001b[0m\u001b[0;34m=\u001b[0m\u001b[0;34m\"categorical\"\u001b[0m\u001b[0;34m)\u001b[0m\u001b[0;34m\u001b[0m\u001b[0m\n\u001b[0m\u001b[1;32m      9\u001b[0m \u001b[0mprint\u001b[0m\u001b[0;34m(\u001b[0m\u001b[0mresult\u001b[0m\u001b[0;34m)\u001b[0m\u001b[0;34m\u001b[0m\u001b[0m\n",
      "\u001b[0;32m/usr/local/lib/python3.5/dist-packages/keras/legacy/interfaces.py\u001b[0m in \u001b[0;36mwrapper\u001b[0;34m(*args, **kwargs)\u001b[0m\n\u001b[1;32m     86\u001b[0m                 warnings.warn('Update your `' + object_name +\n\u001b[1;32m     87\u001b[0m                               '` call to the Keras 2 API: ' + signature, stacklevel=2)\n\u001b[0;32m---> 88\u001b[0;31m             \u001b[0;32mreturn\u001b[0m \u001b[0mfunc\u001b[0m\u001b[0;34m(\u001b[0m\u001b[0;34m*\u001b[0m\u001b[0margs\u001b[0m\u001b[0;34m,\u001b[0m \u001b[0;34m**\u001b[0m\u001b[0mkwargs\u001b[0m\u001b[0;34m)\u001b[0m\u001b[0;34m\u001b[0m\u001b[0m\n\u001b[0m\u001b[1;32m     89\u001b[0m         \u001b[0mwrapper\u001b[0m\u001b[0;34m.\u001b[0m\u001b[0m_legacy_support_signature\u001b[0m \u001b[0;34m=\u001b[0m \u001b[0minspect\u001b[0m\u001b[0;34m.\u001b[0m\u001b[0mgetargspec\u001b[0m\u001b[0;34m(\u001b[0m\u001b[0mfunc\u001b[0m\u001b[0;34m)\u001b[0m\u001b[0;34m\u001b[0m\u001b[0m\n\u001b[1;32m     90\u001b[0m         \u001b[0;32mreturn\u001b[0m \u001b[0mwrapper\u001b[0m\u001b[0;34m\u001b[0m\u001b[0m\n",
      "\u001b[0;31mTypeError\u001b[0m: evaluate_generator() got an unexpected keyword argument 'class_mode'"
     ]
    }
   ],
   "source": [
    "test_generator = test_datagen.flow_from_directory(\n",
    "    directory=\"../input/test\",\n",
    "        target_size=(64, 64),\n",
    "        batch_size=32,\n",
    "        color_mode = 'rgb',\n",
    "        class_mode='categorical')\n",
    "\n",
    "result = model.evaluate_generator(test_generator, steps=5)\n",
    "print(result)"
   ]
  },
  {
   "cell_type": "code",
   "execution_count": null,
   "metadata": {
    "collapsed": true
   },
   "outputs": [],
   "source": []
  }
 ],
 "metadata": {
  "kernelspec": {
   "display_name": "Python 3",
   "language": "python",
   "name": "python3"
  },
  "language_info": {
   "codemirror_mode": {
    "name": "ipython",
    "version": 3
   },
   "file_extension": ".py",
   "mimetype": "text/x-python",
   "name": "python",
   "nbconvert_exporter": "python",
   "pygments_lexer": "ipython3",
   "version": "3.5.2"
  }
 },
 "nbformat": 4,
 "nbformat_minor": 2
}
