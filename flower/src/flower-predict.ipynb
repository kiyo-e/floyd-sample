{
 "cells": [
  {
   "cell_type": "code",
   "execution_count": 4,
   "metadata": {},
   "outputs": [],
   "source": [
    "import keras\n",
    "from keras.models import load_model\n",
    "from PIL import Image\n",
    "\n",
    "import numpy as np\n",
    "# import scipy\n",
    "import matplotlib.pyplot as plt\n",
    "import matplotlib.image as mpimg\n"
   ]
  },
  {
   "cell_type": "code",
   "execution_count": 5,
   "metadata": {
    "scrolled": true
   },
   "outputs": [],
   "source": [
    "model = load_model(\"../output/flower.h5\")"
   ]
  },
  {
   "cell_type": "code",
   "execution_count": 10,
   "metadata": {
    "collapsed": true
   },
   "outputs": [],
   "source": [
    "classes = ['Tulip', 'Snowdrop', 'LilyValley', 'Bluebell', 'Crocus',\n",
    "           'Iris', 'Tigerlily', 'Daffodil', 'Fritillary', 'Sunflower',\n",
    "           'Daisy', 'ColtsFoot', 'Dandelion', 'Cowslip', 'Buttercup',\n",
    "           'Windflower', 'Pansy']\n"
   ]
  },
  {
   "cell_type": "code",
   "execution_count": 11,
   "metadata": {},
   "outputs": [
    {
     "name": "stdout",
     "output_type": "stream",
     "text": [
      "1/1 [==============================] - 0s\n"
     ]
    }
   ],
   "source": [
    "X = []\n",
    "\n",
    "\n",
    "img = Image.open('../input/image_0246.jpg')\n",
    "img = img.convert(\"RGB\")\n",
    "img = img.resize((64, 64))\n",
    "\n",
    "in_data = np.asarray(img)\n",
    "X.append(in_data)\n",
    "\n",
    "\n",
    "\n",
    "X = np.array(X)\n",
    "\n",
    "\n",
    "cl = model.predict_classes(X)\n",
    "\n"
   ]
  },
  {
   "cell_type": "code",
   "execution_count": 13,
   "metadata": {},
   "outputs": [
    {
     "name": "stdout",
     "output_type": "stream",
     "text": [
      "Bluebell\n"
     ]
    }
   ],
   "source": [
    "print(classes[cl[0]])"
   ]
  },
  {
   "cell_type": "code",
   "execution_count": 16,
   "metadata": {},
   "outputs": [
    {
     "name": "stdout",
     "output_type": "stream",
     "text": [
      "1/1 [==============================] - 0s\n",
      "Bluebell\n"
     ]
    }
   ],
   "source": [
    "X = []\n",
    "\n",
    "\n",
    "img = Image.open('../input/bluebell-3.jpg')\n",
    "img = img.convert(\"RGB\")\n",
    "img = img.resize((64, 64))\n",
    "\n",
    "in_data = np.asarray(img)\n",
    "X.append(in_data)\n",
    "\n",
    "\n",
    "\n",
    "X = np.array(X)\n",
    "\n",
    "\n",
    "cl = model.predict_classes(X)\n",
    "\n",
    "print(classes[cl[0]])"
   ]
  },
  {
   "cell_type": "code",
   "execution_count": 17,
   "metadata": {},
   "outputs": [
    {
     "name": "stdout",
     "output_type": "stream",
     "text": [
      "1/1 [==============================] - 0s\n",
      "Tigerlily\n"
     ]
    }
   ],
   "source": [
    "X = []\n",
    "\n",
    "\n",
    "img = Image.open('../input/tulip-2.png')\n",
    "img = img.convert(\"RGB\")\n",
    "img = img.resize((64, 64))\n",
    "\n",
    "in_data = np.asarray(img)\n",
    "X.append(in_data)\n",
    "\n",
    "\n",
    "\n",
    "X = np.array(X)\n",
    "\n",
    "\n",
    "cl = model.predict_classes(X)\n",
    "\n",
    "print(classes[cl[0]])"
   ]
  },
  {
   "cell_type": "code",
   "execution_count": 18,
   "metadata": {},
   "outputs": [
    {
     "name": "stdout",
     "output_type": "stream",
     "text": [
      "1/1 [==============================] - 0s\n",
      "ColtsFoot\n"
     ]
    }
   ],
   "source": [
    "X = []\n",
    "\n",
    "\n",
    "img = Image.open('../input/shutterstock_272581526-480x320.jpg')\n",
    "img = img.convert(\"RGB\")\n",
    "img = img.resize((64, 64))\n",
    "\n",
    "in_data = np.asarray(img)\n",
    "X.append(in_data)\n",
    "\n",
    "\n",
    "\n",
    "X = np.array(X)\n",
    "\n",
    "\n",
    "cl = model.predict_classes(X)\n",
    "\n",
    "print(classes[cl[0]])"
   ]
  },
  {
   "cell_type": "code",
   "execution_count": null,
   "metadata": {
    "collapsed": true
   },
   "outputs": [],
   "source": []
  }
 ],
 "metadata": {
  "kernelspec": {
   "display_name": "Python 3",
   "language": "python",
   "name": "python3"
  },
  "language_info": {
   "codemirror_mode": {
    "name": "ipython",
    "version": 3
   },
   "file_extension": ".py",
   "mimetype": "text/x-python",
   "name": "python",
   "nbconvert_exporter": "python",
   "pygments_lexer": "ipython3",
   "version": "3.5.2"
  }
 },
 "nbformat": 4,
 "nbformat_minor": 2
}
